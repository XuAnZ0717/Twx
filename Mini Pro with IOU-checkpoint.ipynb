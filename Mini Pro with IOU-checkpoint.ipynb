{
 "cells": [
  {
   "cell_type": "markdown",
   "id": "137ebecf",
   "metadata": {},
   "source": [
    "# Image Segmentation using K-Means with Contour"
   ]
  },
  {
   "cell_type": "markdown",
   "id": "7a4c2f45",
   "metadata": {},
   "source": [
    "### Import libraries"
   ]
  },
  {
   "cell_type": "code",
   "execution_count": 1,
   "id": "ad1e560e",
   "metadata": {
    "scrolled": false
   },
   "outputs": [
    {
     "data": {
      "text/plain": [
       "True"
      ]
     },
     "execution_count": 1,
     "metadata": {},
     "output_type": "execute_result"
    }
   ],
   "source": [
    "import cv2 as cv\n",
    "import numpy as np\n",
    "import pandas as pd\n",
    "import matplotlib.pyplot as plt\n",
    "import math as math\n",
    "\n",
    "# Make sure that optimization is enabled\n",
    "if not cv.useOptimized():\n",
    "    cv.setUseOptimized(True)\n",
    "\n",
    "cv.useOptimized()\n"
   ]
  },
  {
   "cell_type": "markdown",
   "id": "0e8696a7",
   "metadata": {},
   "source": [
    "## Step 1: Image Pre-processing"
   ]
  },
  {
   "cell_type": "markdown",
   "id": "ce75427c",
   "metadata": {},
   "source": [
    "Load image, resize image to 200 x 200, and perform bilateral filter"
   ]
  },
  {
   "cell_type": "code",
   "execution_count": 2,
   "id": "6d6cf17d",
   "metadata": {},
   "outputs": [],
   "source": [
    "#load image\n",
    "cur = 1\n",
    "img = cv.imread('img (%s).png' %cur)\n",
    "\n",
    "#Resizing Image\n",
    "img = cv.resize(img, (200,200), interpolation = cv.INTER_CUBIC)\n",
    "\n",
    "#Bilateral Filter\n",
    "#Why use bilateral? -> can remove noises better than gaussian while keeping the edges sharp\n",
    "img_filtered = cv.bilateralFilter(img, 7, 30, 30) \n",
    "\n",
    "cv.imshow('image', img)\n",
    "cv.imshow('filter', img_filtered)\n",
    "cv.waitKey(0)\n",
    "cv.destroyAllWindows()"
   ]
  },
  {
   "cell_type": "markdown",
   "id": "48455e27",
   "metadata": {},
   "source": [
    "Convert color space to HSV and perform CLAHE on V space to enhance image contrast."
   ]
  },
  {
   "cell_type": "code",
   "execution_count": 3,
   "id": "e8288544",
   "metadata": {},
   "outputs": [],
   "source": [
    "# Convert BGR -> HSV\n",
    "img_hsv = cv.cvtColor(img_filtered, cv.COLOR_BGR2HSV)\n",
    "\n",
    "#Spliting HSV color spaces\n",
    "h,s,v = cv.split(img_hsv)\n",
    "\n",
    "#CLAHE\n",
    "clahe = cv.createCLAHE(clipLimit = 2.0, tileGridSize = (8, 8))\n",
    "v_dst = clahe.apply(v)\n",
    "\n",
    "#replacing old V space with new V space that has undergone CLAHE\n",
    "img_cl = img_hsv\n",
    "img_cl[:,:,2] = v_dst\n",
    "img_cl = cv.cvtColor(img_cl, cv.COLOR_HSV2BGR)\n",
    "\n",
    "cv.imshow('result',np.hstack((img,img_filtered,img_cl)))\n",
    "cv.waitKey(0)\n",
    "cv.destroyAllWindows()"
   ]
  },
  {
   "cell_type": "markdown",
   "id": "10d3fa13",
   "metadata": {},
   "source": [
    "## Step 2: K-Means segmentation"
   ]
  },
  {
   "cell_type": "markdown",
   "id": "f1ed91f0",
   "metadata": {},
   "source": [
    "Before segmentation, need to determine K value first. Elbow graph can be used to determine the optimal K value for every input."
   ]
  },
  {
   "cell_type": "code",
   "execution_count": 4,
   "id": "e6df59d7",
   "metadata": {
    "scrolled": true
   },
   "outputs": [
    {
     "data": {
      "image/png": "[encoded data removed]",
      "text/plain": [
       "<Figure size 432x288 with 1 Axes>"
      ]
     },
     "metadata": {
      "needs_background": "light"
     },
     "output_type": "display_data"
    }
   ],
   "source": [
    "# k-means initial stage: Elbow method to determine optimal K value\n",
    "\n",
    "# Convert the image to HSV\n",
    "img_hsv = cv.cvtColor(img_cl, cv.COLOR_BGR2HSV)\n",
    "\n",
    "# reshape and convert to float32\n",
    "img_reshape = img_hsv.reshape((-1, 3))\n",
    "img_reshape = np.float32(img_reshape)\n",
    "\n",
    "# Define criteria, attempts and maximum k value for Elbow method graph\n",
    "criteria = (cv.TERM_CRITERIA_EPS + cv.TERM_CRITERIA_MAX_ITER, 10, 1.0)\n",
    "attempts = 10\n",
    "max_k = 10\n",
    "\n",
    "#array to store result for each k value to be plotted later\n",
    "wc_sos = []\n",
    "\n",
    "#repeat k-means segmentation until max_k value\n",
    "for k in range(2, max_k+1):\n",
    "    ret, _, _ = cv.kmeans(img_reshape, k, None, criteria, attempts, cv.KMEANS_PP_CENTERS)\n",
    "    wc_sos.append(ret)\n",
    "\n",
    "#plot result in graph\n",
    "plt.figure()\n",
    "plt.plot(list(range(2, max_k+1)), wc_sos, color = 'b')\n",
    "plt.show()"
   ]
  },
  {
   "cell_type": "markdown",
   "id": "0a57d1b6",
   "metadata": {},
   "source": [
    "How to determine optimal k?\n",
    "\n",
    "1. plot a straight line from starting point x (2) to ending point x (10)\n",
    "\n",
    "2. find the longest distance between the points in elbow graph and line plotted\n",
    "\n",
    "3. x value with the longest distance will be optimum k\n"
   ]
  },
  {
   "cell_type": "markdown",
   "id": "204c53e6",
   "metadata": {},
   "source": [
    "#### 1. plot a straight line from starting point x (2) to ending point x (10)"
   ]
  },
  {
   "cell_type": "code",
   "execution_count": 5,
   "id": "0476cd59",
   "metadata": {
    "scrolled": false
   },
   "outputs": [
    {
     "data": {
      "image/png": "[encoded data removed]",
      "text/plain": [
       "<Figure size 432x288 with 1 Axes>"
      ]
     },
     "metadata": {
      "needs_background": "light"
     },
     "output_type": "display_data"
    }
   ],
   "source": [
    "plt.plot(list(range(2, max_k+1)), wc_sos, color = 'b')\n",
    "plt.plot([2,max_k],[wc_sos[0],wc_sos[8]],'ro-')\n",
    "plt.show()"
   ]
  },
  {
   "cell_type": "markdown",
   "id": "8b1e2bc9",
   "metadata": {},
   "source": [
    "#### 2. find the longest distance between the points in elbow graph and line plotted"
   ]
  },
  {
   "cell_type": "code",
   "execution_count": 6,
   "id": "58b48fe1",
   "metadata": {},
   "outputs": [],
   "source": [
    "#function to find distance between a point in blue line and red line\n",
    "def calc_distance(x1, y1, a, b, c):\n",
    "    d = abs((a * x1 + b * y1 + c)) /(math.sqrt(a * a + b * b))\n",
    "    return d"
   ]
  },
  {
   "cell_type": "code",
   "execution_count": 7,
   "id": "c3f85c07",
   "metadata": {},
   "outputs": [],
   "source": [
    "#(y1 - y2)x + (x2 - x1)y + (x1y2 - x2y1) = 0\n",
    "# a(x) + b(y) + (c1 - c2) = 0\n",
    "a = wc_sos[0] - wc_sos[8]\n",
    "b = max_k - 2\n",
    "c1 = 2 * wc_sos[8]\n",
    "c2 = max_k * wc_sos[0]\n",
    "c = c1 - c2"
   ]
  },
  {
   "cell_type": "code",
   "execution_count": 8,
   "id": "6abf0486",
   "metadata": {},
   "outputs": [],
   "source": [
    "#perform calculation for all x values (2 to 10)\n",
    "distance = []\n",
    "idx = 0\n",
    "for k in range(2, max_k+1):\n",
    "    distance.append(calc_distance(k,wc_sos[idx], a, b, c))\n",
    "    idx += 1"
   ]
  },
  {
   "cell_type": "code",
   "execution_count": 9,
   "id": "51525a51",
   "metadata": {
    "scrolled": false
   },
   "outputs": [
    {
     "data": {
      "image/png": "[encoded data removed]",
      "text/plain": [
       "<Figure size 432x288 with 1 Axes>"
      ]
     },
     "metadata": {
      "needs_background": "light"
     },
     "output_type": "display_data"
    }
   ],
   "source": [
    "#visualize the result obtained from calculation\n",
    "plt.plot(list(range(2, max_k+1)), distance, color = 'b')\n",
    "plt.show()"
   ]
  },
  {
   "cell_type": "markdown",
   "id": "06993bbf",
   "metadata": {},
   "source": [
    "#### 3. x value with the longest distance will be optimum k"
   ]
  },
  {
   "cell_type": "code",
   "execution_count": 10,
   "id": "7cce669a",
   "metadata": {
    "scrolled": true
   },
   "outputs": [
    {
     "name": "stdout",
     "output_type": "stream",
     "text": [
      "Based on graph, Optimal k = 5\n"
     ]
    }
   ],
   "source": [
    "#3. x value with the longest distance will be optimum k\n",
    "K = np.argmax(distance)+2\n",
    "print(\"Based on graph, Optimal k =\",K)"
   ]
  },
  {
   "cell_type": "markdown",
   "id": "c7be1604",
   "metadata": {},
   "source": [
    "Instead of using K, K+1 is used as the k value as some images doesn't segment well from background when using optimal K."
   ]
  },
  {
   "cell_type": "code",
   "execution_count": 11,
   "id": "69192fa5",
   "metadata": {},
   "outputs": [],
   "source": [
    "#apply k-means segmentation according to optimal k value obtained from elbow method\n",
    "ret, label, center = cv.kmeans(img_reshape, K+1, None, criteria, attempts, cv.KMEANS_PP_CENTERS)\n",
    "\n",
    "# Convert the center to np.uint8\n",
    "center = np.uint8(center)\n",
    "res = center[label.flatten()]\n",
    "result = res.reshape(img_hsv.shape) \n",
    "\n",
    "cv.imshow('kmeans', result)\n",
    "cv.waitKey(0)\n",
    "cv.destroyAllWindows()"
   ]
  },
  {
   "cell_type": "markdown",
   "id": "3f6dce0f",
   "metadata": {},
   "source": [
    "Comparison of Original Image, K-means segmented image (HSV), and K-means segmented image(BGR)"
   ]
  },
  {
   "cell_type": "code",
   "execution_count": 12,
   "id": "a305268c",
   "metadata": {},
   "outputs": [],
   "source": [
    "img_kmeans = cv.cvtColor(result, cv.COLOR_HSV2BGR)\n",
    "cv.imshow('img', img)\n",
    "cv.imshow('k-img', img_kmeans)\n",
    "cv.imshow('kmeans', result)\n",
    "cv.waitKey(0) \n",
    "cv.destroyAllWindows()"
   ]
  },
  {
   "cell_type": "markdown",
   "id": "2418eb55",
   "metadata": {},
   "source": [
    "## Step 3: Contour to extract ROI\n"
   ]
  },
  {
   "cell_type": "markdown",
   "id": "cf2ca8eb",
   "metadata": {},
   "source": [
    "Convert k-means segmented image to grayscale image to perform Otsu thresholding."
   ]
  },
  {
   "cell_type": "code",
   "execution_count": 13,
   "id": "b24a17b6",
   "metadata": {},
   "outputs": [],
   "source": [
    "#Grayscale\n",
    "img_gray_kmeans = cv.cvtColor(img_kmeans, cv.COLOR_BGR2GRAY)\n",
    "cv.imshow('gray', img_gray_kmeans)\n",
    "cv.waitKey(0)\n",
    "cv.destroyAllWindows()"
   ]
  },
  {
   "cell_type": "code",
   "execution_count": 14,
   "id": "08a196dc",
   "metadata": {},
   "outputs": [],
   "source": [
    "#Otsu Thresholding\n",
    "ret, th = cv.threshold(img_gray_kmeans, 0 , 255 , cv.THRESH_BINARY_INV + cv.THRESH_OTSU)\n",
    "\n",
    "cv.imshow('th', th)\n",
    "cv.waitKey()\n",
    "cv.destroyAllWindows()"
   ]
  },
  {
   "cell_type": "markdown",
   "id": "26ddaab3",
   "metadata": {},
   "source": [
    "Find all possible contours from thresholded image."
   ]
  },
  {
   "cell_type": "code",
   "execution_count": 15,
   "id": "ddb07a05",
   "metadata": {
    "scrolled": false
   },
   "outputs": [],
   "source": [
    "#Contour\n",
    "contours, hierachy = cv.findContours(th, cv.RETR_TREE, cv.CHAIN_APPROX_SIMPLE)\n",
    "\n",
    "img_cont = img.copy()\n",
    "\n",
    "cv.drawContours(img_cont, contours, -1, (0, 255, 0), 2)\n",
    "\n",
    "cv.imshow('contour', img_cont)\n",
    "cv.waitKey(0)\n",
    "cv.destroyAllWindows() "
   ]
  },
  {
   "cell_type": "markdown",
   "id": "3b671279",
   "metadata": {},
   "source": [
    "Extract contour which outlines the sign only.\n",
    "\n",
    "How?\n",
    "\n",
    "Filter out the contours according to criteria below:\n",
    "1. Remove contours that are very close to the edge of display border\n",
    "2. Remove contours will area smaller than threshold (Area <= 2000)\n",
    "\n",
    "By filtering the contours, most of the noises can be cleared."
   ]
  },
  {
   "cell_type": "code",
   "execution_count": 16,
   "id": "a00a95ae",
   "metadata": {
    "scrolled": true
   },
   "outputs": [],
   "source": [
    "#checking if contour is close to border/smaller than certain area (false contour)\n",
    "falseContour = []\n",
    "for idx, i in enumerate(contours):\n",
    "    area = cv.contourArea(i)\n",
    "    for cnt in i:\n",
    "        if idx not in falseContour:\n",
    "            #remove contours which contain starting coordinate\n",
    "            if (cnt[0][0] == 0 or cnt[0][1] == 0):\n",
    "                falseContour.append(idx)\n",
    "                break\n",
    "            #remove contours close to display border\n",
    "            elif (cnt[0][1] >= 195):\n",
    "                falseContour.append(idx)\n",
    "                break\n",
    "            elif (cnt[0][0] >= 195):\n",
    "                falseContour.append(idx)\n",
    "                break\n",
    "            #remove small areas\n",
    "            elif(area <= 3000):\n",
    "                falseContour.append(idx)\n",
    "                break"
   ]
  },
  {
   "cell_type": "code",
   "execution_count": 17,
   "id": "89d7f3f5",
   "metadata": {},
   "outputs": [],
   "source": [
    "maxArea, maxAreaIdx = 0, 0\n",
    "for idx, i in enumerate(contours):\n",
    "    if idx not in falseContour:\n",
    "        area = cv.contourArea(i)\n",
    "        #look for contour with largest area for bounding box\n",
    "        if area > maxArea:\n",
    "            maxArea = area\n",
    "            maxAreaIdx = idx"
   ]
  },
  {
   "cell_type": "code",
   "execution_count": 21,
   "id": "2acc0bfa",
   "metadata": {
    "scrolled": true
   },
   "outputs": [],
   "source": [
    "#to display predicted bounding box\n",
    "img_rect = img.copy()\n",
    "\n",
    "for idx, i in enumerate(contours):\n",
    "    if idx == maxAreaIdx:\n",
    "        rect = cv.boundingRect(i)\n",
    "        \n",
    "x,y,w,h = rect\n",
    "cv.rectangle(img_rect,(x,y),(x+w,y+h),(0,255,0),2)\n",
    "\n",
    "cv.imshow('contour', img_rect)\n",
    "cv.waitKey(0)\n",
    "cv.destroyAllWindows()             "
   ]
  },
  {
   "cell_type": "code",
   "execution_count": 22,
   "id": "93252d35",
   "metadata": {},
   "outputs": [],
   "source": [
    "img_cont = img.copy()\n",
    "\n",
    "#draw out the contour after filtering\n",
    "for idx, i in enumerate(contours):\n",
    "      if idx not in falseContour:\n",
    "        cv.drawContours(img_cont, contours, idx, (0, 255, 0), 2)\n",
    "        \n",
    "cv.imshow('contour', img_cont)\n",
    "cv.waitKey(0)\n",
    "cv.destroyAllWindows()"
   ]
  },
  {
   "cell_type": "markdown",
   "id": "bacaef8b",
   "metadata": {},
   "source": [
    "Contour looks good now, use it to create mask.\n",
    "\n",
    "Dilation is used to enlarge the mask as some segmentation does not include sign border."
   ]
  },
  {
   "cell_type": "code",
   "execution_count": 23,
   "id": "157a6f23",
   "metadata": {
    "scrolled": true
   },
   "outputs": [],
   "source": [
    "#creating mask\n",
    "mask = np.zeros((img.shape[0], img.shape[1]), dtype =np.uint8)\n",
    "\n",
    "for idx, i in enumerate(contours):\n",
    "    if idx not in falseContour:\n",
    "\n",
    "        cv.drawContours(mask, contours, idx, (255,255,255), -1)\n",
    "\n",
    "mask_dilate = cv.dilate(mask, None, iterations = 3)\n",
    "cv.imshow('mask', mask)\n",
    "cv.imshow('open', mask_dilate)\n",
    "cv.waitKey()\n",
    "cv.destroyAllWindows()"
   ]
  },
  {
   "cell_type": "code",
   "execution_count": 24,
   "id": "9dc34d59",
   "metadata": {},
   "outputs": [],
   "source": [
    "#segment out ROI\n",
    "img_segment = cv.bitwise_and(img,img,mask=mask_dilate)\n",
    "cv.imshow('input', img)\n",
    "cv.imshow('output', img_segment)\n",
    "cv.waitKey(0)\n",
    "cv.destroyAllWindows()"
   ]
  },
  {
   "cell_type": "markdown",
   "id": "b3997b07",
   "metadata": {},
   "source": [
    "## Auto execute for all dataset to calculate IoU"
   ]
  },
  {
   "cell_type": "code",
   "execution_count": 26,
   "id": "32762008",
   "metadata": {},
   "outputs": [],
   "source": [
    "df = pd.read_excel('annotation.xlsx')"
   ]
  },
  {
   "cell_type": "code",
   "execution_count": 27,
   "id": "74bb0c51",
   "metadata": {},
   "outputs": [],
   "source": [
    "#array to store input dataset\n",
    "dataset = []\n",
    "\n",
    "#array to store ground truth coordinates\n",
    "new_d_x1=[]\n",
    "new_d_x2=[]\n",
    "new_d_y1=[]\n",
    "new_d_y2=[]\n",
    "\n",
    "#100 datasets\n",
    "for i in range(1, 101):\n",
    "    dataset.append(\"img (%d).png\" %(i))\n",
    "    d_width=df._get_value(i-1,\"width\")\n",
    "    d_height=df._get_value(i-1,\"height\")\n",
    "    d_x1=df._get_value(i-1,\"x1\")\n",
    "    d_y1=df._get_value(i-1,\"y1\")\n",
    "    d_x2=df._get_value(i-1,\"x2\")\n",
    "    d_y2=df._get_value(i-1,\"y2\")\n",
    "    \n",
    "    new_d_width=200/d_width\n",
    "    new_d_height=200/d_height\n",
    "    \n",
    "    new_d_x1.append(d_x1*new_d_width)\n",
    "    new_d_x2.append(d_x2*new_d_width)\n",
    "    new_d_y1.append(d_y1*new_d_height)\n",
    "    new_d_y2.append(d_y2*new_d_height)\n",
    "    "
   ]
  },
  {
   "cell_type": "code",
   "execution_count": 28,
   "id": "424a2eab",
   "metadata": {},
   "outputs": [],
   "source": [
    "#function to calculate IoU\n",
    "def get_iou(ground_truth, pred):\n",
    "    # coordinates of the area of intersection.\n",
    "    ix1 = np.maximum(ground_truth[0], pred[0])\n",
    "    iy1 = np.maximum(ground_truth[1], pred[1])\n",
    "    ix2 = np.minimum(ground_truth[2], pred[2])\n",
    "    iy2 = np.minimum(ground_truth[3], pred[3])\n",
    "    \n",
    "    # Intersection height and width.\n",
    "    i_height = np.maximum(iy2 - iy1 + 1, np.array(0.))\n",
    "    i_width = np.maximum(ix2 - ix1 + 1, np.array(0.))\n",
    "    \n",
    "    area_of_intersection = i_height * i_width\n",
    "    \n",
    "    # Ground Truth dimensions.\n",
    "    gt_height = ground_truth[3] - ground_truth[1] + 1\n",
    "    gt_width = ground_truth[2] - ground_truth[0] + 1\n",
    "    \n",
    "    # Prediction dimensions.\n",
    "    pd_height = pred[3] - pred[1] + 1\n",
    "    pd_width = pred[2] - pred[0] + 1\n",
    "    \n",
    "    area_of_union = gt_height * gt_width + pd_height * pd_width - area_of_intersection\n",
    "    \n",
    "    iou = area_of_intersection / area_of_union\n",
    "    \n",
    "    return iou"
   ]
  },
  {
   "cell_type": "code",
   "execution_count": 29,
   "id": "5c53b817",
   "metadata": {
    "scrolled": true
   },
   "outputs": [
    {
     "name": "stdout",
     "output_type": "stream",
     "text": [
      "Current Image:  1\n",
      "IOU:  0.8856924172001661\n",
      "\n",
      "Current Image:  2\n",
      "IOU:  0.9742555717427822\n",
      "\n",
      "Current Image:  3\n",
      "IOU:  0.9012456666316767\n",
      "\n",
      "Current Image:  4\n",
      "IOU:  0.6776911237359351\n",
      "\n",
      "Current Image:  5\n",
      "IOU:  0.9072160017740064\n",
      "\n",
      "Current Image:  6\n",
      "IOU:  0.9616825251861602\n",
      "\n",
      "Current Image:  7\n",
      "IOU:  0.8682783856236923\n",
      "\n",
      "Current Image:  8\n",
      "IOU:  0.6858673929082514\n",
      "\n",
      "Current Image:  9\n",
      "IOU:  0.6472109263363495\n",
      "\n",
      "Current Image:  10\n",
      "IOU:  0.9430450487507755\n",
      "\n",
      "Current Image:  11\n",
      "IOU:  0.6870362884163503\n",
      "\n",
      "Current Image:  12\n",
      "IOU:  0.8907800953688393\n",
      "\n",
      "Current Image:  13\n",
      "IOU:  0.912488677129049\n",
      "\n",
      "Current Image:  14\n",
      "IOU:  0.654356530451081\n",
      "\n",
      "Current Image:  15\n",
      "IOU:  0.6730896366537109\n",
      "\n",
      "Current Image:  16\n",
      "IOU:  0.6561025748688664\n",
      "\n",
      "Current Image:  17\n",
      "IOU:  0.655956471408254\n",
      "\n",
      "Current Image:  18\n",
      "IOU:  0.621017692250354\n",
      "\n",
      "Current Image:  19\n",
      "IOU:  0.9870968937711564\n",
      "\n",
      "Current Image:  20\n",
      "IOU:  0.9826385844082186\n",
      "\n",
      "Current Image:  21\n",
      "IOU:  0.77531956968211\n",
      "\n",
      "Current Image:  22\n",
      "IOU:  0.9666947930503424\n",
      "\n",
      "Current Image:  23\n",
      "IOU:  0.9526271462251666\n",
      "\n",
      "Current Image:  24\n",
      "IOU:  0.9565792501107057\n",
      "\n",
      "Current Image:  25\n",
      "IOU:  0.9663568981356966\n",
      "\n",
      "Current Image:  26\n",
      "IOU:  0.9579517633956255\n",
      "\n",
      "Current Image:  27\n",
      "IOU:  0.0\n",
      "\n",
      "Current Image:  28\n",
      "IOU:  0.9932933981115696\n",
      "\n",
      "Current Image:  29\n",
      "IOU:  0.9596171900289642\n",
      "\n",
      "Current Image:  30\n",
      "IOU:  0.9590360038964796\n",
      "\n",
      "Current Image:  31\n",
      "IOU:  0.652924531809207\n",
      "\n",
      "Current Image:  32\n",
      "IOU:  0.9631548020773926\n",
      "\n",
      "Current Image:  33\n",
      "IOU:  0.9721400150592872\n",
      "\n",
      "Current Image:  34\n",
      "IOU:  0.9678636594908795\n",
      "\n",
      "Current Image:  35\n",
      "IOU:  0.9316765215312643\n",
      "\n",
      "Current Image:  36\n",
      "IOU:  0.9637809496426557\n",
      "\n",
      "Current Image:  37\n",
      "IOU:  0.6904885162946464\n",
      "\n",
      "Current Image:  38\n",
      "IOU:  0.967266324284612\n",
      "\n",
      "Current Image:  39\n",
      "IOU:  0.9801082028361837\n",
      "\n",
      "Current Image:  40\n",
      "IOU:  0.9407122112960036\n",
      "\n",
      "Current Image:  41\n",
      "IOU:  0.9094558480911574\n",
      "\n",
      "Current Image:  42\n",
      "IOU:  0.874413797799843\n",
      "\n",
      "Current Image:  43\n",
      "IOU:  0.9773693722737367\n",
      "\n",
      "Current Image:  44\n",
      "IOU:  0.9768072526827154\n",
      "\n",
      "Current Image:  45\n",
      "IOU:  0.968027557790489\n",
      "\n",
      "Current Image:  46\n",
      "IOU:  0.9368389630895229\n",
      "\n",
      "Current Image:  47\n",
      "IOU:  0.9610122471019424\n",
      "\n",
      "Current Image:  48\n",
      "IOU:  0.922419389330787\n",
      "\n",
      "Current Image:  49\n",
      "IOU:  0.935353117909409\n",
      "\n",
      "Current Image:  50\n",
      "IOU:  0.9182265338806966\n",
      "\n",
      "Current Image:  51\n",
      "IOU:  0.8598046781933477\n",
      "\n",
      "Current Image:  52\n",
      "IOU:  0.9341978791401664\n",
      "\n",
      "Current Image:  53\n",
      "IOU:  0.9682902056160558\n",
      "\n",
      "Current Image:  54\n",
      "IOU:  0.9699815184423278\n",
      "\n",
      "Current Image:  55\n",
      "IOU:  0.9032043392253236\n",
      "\n",
      "Current Image:  56\n",
      "IOU:  0.9643640829088742\n",
      "\n",
      "Current Image:  57\n",
      "IOU:  0.9237522706130269\n",
      "\n",
      "Current Image:  58\n",
      "IOU:  0.9783326219392303\n",
      "\n",
      "Current Image:  59\n",
      "IOU:  0.9635565866023805\n",
      "\n",
      "Current Image:  60\n",
      "IOU:  0.964897997309535\n",
      "\n",
      "Current Image:  61\n",
      "IOU:  0.6274745286793478\n",
      "\n",
      "Current Image:  62\n",
      "IOU:  0.9715295856964601\n",
      "\n",
      "Current Image:  63\n",
      "IOU:  0.5958324041514101\n",
      "\n",
      "Current Image:  64\n",
      "IOU:  0.9812254687821529\n",
      "\n",
      "Current Image:  65\n",
      "IOU:  0.977464823283921\n",
      "\n",
      "Current Image:  66\n",
      "IOU:  0.9806860806910175\n",
      "\n",
      "Current Image:  67\n",
      "IOU:  0.9682020938006989\n",
      "\n",
      "Current Image:  68\n",
      "IOU:  0.6011822112433629\n",
      "\n",
      "Current Image:  69\n",
      "IOU:  0.9474927192477748\n",
      "\n",
      "Current Image:  70\n",
      "IOU:  0.5992481204471077\n",
      "\n",
      "Current Image:  71\n",
      "IOU:  0.9536414062907936\n",
      "\n",
      "Current Image:  72\n",
      "IOU:  0.7239287014915897\n",
      "\n",
      "Current Image:  73\n",
      "IOU:  0.8943537389852801\n",
      "\n",
      "Current Image:  74\n",
      "IOU:  0.6909185102721517\n",
      "\n",
      "Current Image:  75\n",
      "IOU:  0.9772222888931866\n",
      "\n",
      "Current Image:  76\n",
      "IOU:  0.9133847540237046\n",
      "\n",
      "Current Image:  77\n",
      "IOU:  0.9728560909853706\n",
      "\n",
      "Current Image:  78\n",
      "IOU:  0.9841131027849812\n",
      "\n",
      "Current Image:  79\n",
      "IOU:  0.572984768099862\n",
      "\n",
      "Current Image:  80\n",
      "IOU:  0.6497764382573373\n",
      "\n",
      "Current Image:  81\n",
      "IOU:  0.9618139955874492\n",
      "\n",
      "Current Image:  82\n",
      "IOU:  0.6375222089742388\n",
      "\n",
      "Current Image:  83\n",
      "IOU:  0.9571467831531756\n",
      "\n",
      "Current Image:  84\n",
      "IOU:  0.9454760484756715\n",
      "\n",
      "Current Image:  85\n",
      "IOU:  0.9561535400971994\n",
      "\n",
      "Current Image:  86\n",
      "IOU:  0.686035605296068\n",
      "\n",
      "Current Image:  87\n",
      "IOU:  0.9280805784914483\n",
      "\n",
      "Current Image:  88\n",
      "IOU:  0.9671064178446589\n",
      "\n",
      "Current Image:  89\n",
      "IOU:  0.8563537211259025\n",
      "\n",
      "Current Image:  90\n",
      "IOU:  0.9293346746656682\n",
      "\n",
      "Current Image:  91\n",
      "IOU:  0.9526987053101069\n",
      "\n",
      "Current Image:  92\n",
      "IOU:  0.8955282683366312\n",
      "\n",
      "Current Image:  93\n",
      "IOU:  0.8429437539940016\n",
      "\n",
      "Current Image:  94\n",
      "IOU:  0.9785479359669751\n",
      "\n",
      "Current Image:  95\n",
      "IOU:  0.9340244378269956\n",
      "\n",
      "Current Image:  96\n",
      "IOU:  0.9497544661747671\n",
      "\n",
      "Current Image:  97\n",
      "IOU:  0.8980773090615121\n",
      "\n",
      "Current Image:  98\n",
      "IOU:  0.9739370551256941\n",
      "\n",
      "Current Image:  99\n",
      "IOU:  0.6299182275017735\n",
      "\n",
      "Current Image:  100\n",
      "IOU:  0.9713232221950444\n",
      "\n"
     ]
    }
   ],
   "source": [
    "count=0\n",
    "accurate=0\n",
    "total = 0\n",
    "for data in dataset:\n",
    "    img = cv.imread(data)\n",
    "\n",
    "    img = cv.resize(img, (200,200), interpolation = cv.INTER_CUBIC)\n",
    "\n",
    "    img_filtered = cv.bilateralFilter(img, 7, 30, 30) \n",
    "\n",
    "    img_hsv = cv.cvtColor(img_filtered, cv.COLOR_BGR2HSV)\n",
    "\n",
    "    h,s,v = cv.split(img_hsv)\n",
    "\n",
    "    clahe = cv.createCLAHE(clipLimit = 2.0, tileGridSize = (8, 8))\n",
    "    v_dst = clahe.apply(v)\n",
    "\n",
    "    img_cl = img_hsv\n",
    "    img_cl[:,:,2] = v_dst\n",
    "    img_cl = cv.cvtColor(img_cl, cv.COLOR_HSV2BGR)\n",
    "\n",
    "    img_hsv = cv.cvtColor(img_cl, cv.COLOR_BGR2HSV)\n",
    "\n",
    "    img_reshape = img_hsv.reshape((-1, 3))\n",
    "    img_reshape = np.float32(img_reshape)\n",
    "\n",
    "    criteria = (cv.TERM_CRITERIA_EPS + cv.TERM_CRITERIA_MAX_ITER, 10, 1.0)\n",
    "    attempts = 10\n",
    "    max_k = 10\n",
    "\n",
    "    wc_sos = []\n",
    "\n",
    "    for k in range(2, max_k+1):\n",
    "        ret, _, _ = cv.kmeans(img_reshape, k, None, criteria, attempts, cv.KMEANS_PP_CENTERS)\n",
    "        wc_sos.append(ret)\n",
    "\n",
    "    a = wc_sos[0] - wc_sos[8]\n",
    "    b = max_k - 2\n",
    "    c1 = 2 * wc_sos[8]\n",
    "    c2 = max_k * wc_sos[0]\n",
    "    c = c1 - c2\n",
    "\n",
    "    distance = []\n",
    "    idx = 0\n",
    "    for k in range(2, max_k+1):\n",
    "        distance.append(calc_distance(k,wc_sos[idx], a, b, c))\n",
    "        idx += 1\n",
    "\n",
    "    K = np.argmax(distance)+2\n",
    "\n",
    "    ret, label, center = cv.kmeans(img_reshape, K+1, None, criteria, attempts, cv.KMEANS_PP_CENTERS)\n",
    "\n",
    "    center = np.uint8(center)\n",
    "    res = center[label.flatten()]\n",
    "    result = res.reshape(img_hsv.shape) \n",
    "\n",
    "    img_kmeans = cv.cvtColor(result, cv.COLOR_HSV2BGR)\n",
    "    img_gray_kmeans = cv.cvtColor(img_kmeans, cv.COLOR_BGR2GRAY)\n",
    "    ret, th = cv.threshold(img_gray_kmeans, 0 , 255 , cv.THRESH_BINARY_INV + cv.THRESH_OTSU)\n",
    "\n",
    "    contours, hierachy = cv.findContours(th, cv.RETR_TREE, cv.CHAIN_APPROX_SIMPLE)\n",
    "\n",
    "    falseContour = []\n",
    "    maxArea, maxAreaIdx = 0, 0\n",
    "    for idx, i in enumerate(contours):\n",
    "        area = cv.contourArea(i)\n",
    "        for cnt in i:\n",
    "            if (cnt[0][0] == 0 or cnt[0][1] == 0):\n",
    "                falseContour.append(idx)\n",
    "                break\n",
    "            elif (cnt[0][1] >= 195):\n",
    "                falseContour.append(idx)\n",
    "                break\n",
    "            elif (cnt[0][0] >= 195):\n",
    "                falseContour.append(idx)\n",
    "                break\n",
    "            elif(area <= 3000):\n",
    "                falseContour.append(idx)\n",
    "                break\n",
    "                \n",
    "    maxArea, maxAreaIdx = 0, 0\n",
    "    for idx, i in enumerate(contours):\n",
    "        if idx not in falseContour:\n",
    "            area = cv.contourArea(i)\n",
    "            #look for contour with largest area for bounding box\n",
    "            if area > maxArea:\n",
    "                maxArea = area\n",
    "                maxAreaIdx = idx\n",
    "\n",
    "    \n",
    "    for idx, i in enumerate(contours):\n",
    "        if idx == maxAreaIdx:\n",
    "            rect = cv.boundingRect(i)\n",
    "    x,y,w,h = rect\n",
    "    \n",
    "    mask = np.zeros((200, 200), dtype =np.uint8)\n",
    "\n",
    "    for idx, i in enumerate(contours):\n",
    "        if idx not in falseContour:\n",
    "            cv.drawContours(mask, contours, idx, (255,255,255), -1)\n",
    "\n",
    "    mask_dilate = cv.dilate(mask, None, iterations = 3)\n",
    "\n",
    "    img_segment = cv.bitwise_and(img,img,mask=mask_dilate)\n",
    "    \n",
    "    #Image calculation IOU\n",
    "    ground_truth_bbox = np.array([new_d_x1[count],new_d_y1[count],new_d_x2[count],new_d_y2[count]], dtype=np.float32)\n",
    "    prediction_bbox = np.array([x, y, x+w, y+h], dtype=np.float32)\n",
    "    \n",
    "    iou = 0\n",
    "    iou = get_iou(ground_truth_bbox, prediction_bbox)\n",
    "    print(\"Current Image: \", count + 1)\n",
    "    print('IOU: ', iou)\n",
    "    print()\n",
    "    count+=1\n",
    "    \n",
    "    if iou>0.8:\n",
    "        accurate+=1 \n",
    "\n",
    "#uncomment this part to show input, output, ground truth and predicted box\n",
    "#     cv.imshow('input', img)\n",
    "#     cv.imshow('output', img_segment)\n",
    "#     cv.imshow('ground',img_test)\n",
    "#     cv.imshow('pred', img_rect)\n",
    "#     cv.waitKey(0)\n",
    "#     cv.destroyAllWindows()\n",
    "    "
   ]
  },
  {
   "cell_type": "code",
   "execution_count": 31,
   "id": "a137b7cf",
   "metadata": {},
   "outputs": [
    {
     "name": "stdout",
     "output_type": "stream",
     "text": [
      "Number of total images: 100\n",
      "Number of segmented images with over IoU of 0.8: 76\n",
      "Accuracy of the system (segmented images/total images): 0.76\n"
     ]
    }
   ],
   "source": [
    "total = accurate/count\n",
    "print(\"Number of total images:\",count)\n",
    "print(\"Number of segmented images with over IoU of 0.8:\",accurate)\n",
    "print(\"Accuracy of the system (segmented images/total images): %.2f\" %(total))"
   ]
  }
 ],
 "metadata": {
  "kernelspec": {
   "display_name": "Python 3 (ipykernel)",
   "language": "python",
   "name": "python3"
  },
  "language_info": {
   "codemirror_mode": {
    "name": "ipython",
    "version": 3
   },
   "file_extension": ".py",
   "mimetype": "text/x-python",
   "name": "python",
   "nbconvert_exporter": "python",
   "pygments_lexer": "ipython3",
   "version": "3.10.5"
  }
 },
 "nbformat": 4,
 "nbformat_minor": 5
}
